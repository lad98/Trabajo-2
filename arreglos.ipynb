{
  "nbformat": 4,
  "nbformat_minor": 0,
  "metadata": {
    "colab": {
      "provenance": [],
      "authorship_tag": "ABX9TyN9KAHMh8onzgRdMgwOfuD5",
      "include_colab_link": true
    },
    "kernelspec": {
      "name": "python3",
      "display_name": "Python 3"
    },
    "language_info": {
      "name": "python"
    }
  },
  "cells": [
    {
      "cell_type": "markdown",
      "metadata": {
        "id": "view-in-github",
        "colab_type": "text"
      },
      "source": [
        "<a href=\"https://colab.research.google.com/github/lad98/Trabajo-2/blob/main/arreglos.ipynb\" target=\"_parent\"><img src=\"https://colab.research.google.com/assets/colab-badge.svg\" alt=\"Open In Colab\"/></a>"
      ]
    },
    {
      "cell_type": "code",
      "source": [
        "v = []\n",
        "f= []\n",
        "\n",
        "while True:\n",
        "    w = input(\"\\n--- MENÚ ---\\n1. Ingresar vértices de la figura\\n2. Ingresar las caras de la figura\\n3. Mostrar la Figura\\n4.Salir\\nSeleccione una opción: \")\n",
        "\n",
        "    if w == \"1\":\n",
        "        a = int(input(\"Cantidad de vértices de su figura: \"))\n",
        "\n",
        "        for i in range(a):\n",
        "            print(f\"Ingrese las coordenadas de su vértice #{i + 1} :\")\n",
        "            x, y, z = map(float, input().split())\n",
        "            v.append([x, y, z])\n",
        "\n",
        "        input(\"Presiona Enter para volver al menú...\")\n",
        "\n",
        "    elif w == \"2\":\n",
        "        if not v:\n",
        "            print(\"Primero debe ingresar los vértices (opción 1).\")\n",
        "        else:\n",
        "            b = int(input(\"Ingrese la cantidad de caras de su figura: \"))\n",
        "\n",
        "            diccionario = {f\"V{i+1}\": sublista for i, sublista in enumerate(v)}\n",
        "            print(f\"Vértices a conectar: {diccionario}\")\n",
        "\n",
        "\n",
        "            for i in range(b):\n",
        "                print(f\"Ingrese los índices de su cara #{i + 1}:\")\n",
        "                print(\"Ingrese los índices de los vértices a conectar:\")\n",
        "\n",
        "                indices = list(input().split())\n",
        "                f.append(indices)\n",
        "\n",
        "            print(\"Lista de caras ingresada correctamente.\")\n",
        "\n",
        "        input(\"Presiona Enter para volver al menú...\")\n",
        "\n",
        "    elif w == \"3\":\n",
        "        if not v or not f:\n",
        "            print(\"Primero debe ingresar los vértices y las caras (opciones 1 y 2).\")\n",
        "        else:\n",
        "          print(\"\\nLos datos ingresados fueron:\")\n",
        "          print(f\"Vértices: {diccionario}\")\n",
        "          print(f\"Caras: {f}\")\n",
        "\n",
        "    elif w == \"4\":\n",
        "        print(\"Saliendo del programa.\")\n",
        "        break\n",
        "\n",
        "    else:\n",
        "        print(\"Opción no válida, intente nuevamente.\")\n",
        "        input(\"Presiona Enter para volver al menú...\")"
      ],
      "metadata": {
        "colab": {
          "base_uri": "https://localhost:8080/"
        },
        "id": "G537TvvgCg6k",
        "outputId": "4fac79c6-69de-46c1-eeff-3ebf764ad920"
      },
      "execution_count": 1,
      "outputs": [
        {
          "output_type": "stream",
          "name": "stdout",
          "text": [
            "\n",
            "--- MENÚ ---\n",
            "1. Ingresar vértices de la figura\n",
            "2. Ingresar las caras de la figura\n",
            "3. Mostrar la Figura\n",
            "4.Salir\n",
            "Seleccione una opción: 1\n",
            "Cantidad de vértices de su figura: 2\n",
            "Ingrese las coordenadas de su vértice #1 :\n",
            "1 2 3\n",
            "Ingrese las coordenadas de su vértice #2 :\n",
            "2 3 4\n",
            "Presiona Enter para volver al menú...\n",
            "\n",
            "--- MENÚ ---\n",
            "1. Ingresar vértices de la figura\n",
            "2. Ingresar las caras de la figura\n",
            "3. Mostrar la Figura\n",
            "4.Salir\n",
            "Seleccione una opción: 2\n",
            "Ingrese la cantidad de caras de su figura: 2\n",
            "Vértices a conectar: {'V1': [1.0, 2.0, 3.0], 'V2': [2.0, 3.0, 4.0]}\n",
            "Ingrese los índices de su cara #1:\n",
            "Ingrese los índices de los vértices a conectar:\n",
            "V1 V2\n",
            "Ingrese los índices de su cara #2:\n",
            "Ingrese los índices de los vértices a conectar:\n",
            "V2 V1\n",
            "Lista de caras ingresada correctamente.\n",
            "Presiona Enter para volver al menú...\n",
            "\n",
            "--- MENÚ ---\n",
            "1. Ingresar vértices de la figura\n",
            "2. Ingresar las caras de la figura\n",
            "3. Mostrar la Figura\n",
            "4.Salir\n",
            "Seleccione una opción: 3\n",
            "\n",
            "Los datos ingresados fueron:\n",
            "Vértices: {'V1': [1.0, 2.0, 3.0], 'V2': [2.0, 3.0, 4.0]}\n",
            "Lista de caras: [['V1', 'V2'], ['V2', 'V1']]\n",
            "\n",
            "--- MENÚ ---\n",
            "1. Ingresar vértices de la figura\n",
            "2. Ingresar las caras de la figura\n",
            "3. Mostrar la Figura\n",
            "4.Salir\n",
            "Seleccione una opción: 4\n",
            "Saliendo del programa.\n"
          ]
        }
      ]
    }
  ]
}